{
 "cells": [
  {
   "cell_type": "code",
   "execution_count": 75,
   "metadata": {},
   "outputs": [],
   "source": [
    "import requests\n",
    "import pandas as pd\n",
    "import bokeh\n",
    "import numpy as np\n",
    "from bokeh.io import output_file, show\n",
    "from bokeh.layouts import layout\n",
    "from bokeh.plotting import figure, output_file, show\n",
    "from bokeh.models import ColumnDataSource, FactorRange,CustomJS, RadioGroup,Row,BoxAnnotation,Toggle\n",
    "\n",
    "%matplotlib inline"
   ]
  },
  {
   "cell_type": "code",
   "execution_count": 76,
   "metadata": {},
   "outputs": [],
   "source": [
    "def function(data):\n",
    "    return data.Weight.sum()\n",
    "\n",
    "\n",
    "\n",
    "def deal_with_outlirers(data):\n",
    "    Q1 = data.quantile(q=0.25)\n",
    "    Q3 = data.quantile(q=0.75)\n",
    "    IRQ = Q3 - Q1\n",
    "    #\n",
    "    Q_LOW = Q1 - (1.5 * IRQ)\n",
    "    Q_HIGH = Q3 + (1.5 * IRQ)\n",
    "   \n",
    "    data=data.loc[(data > Q_LOW) & (data < Q_HIGH)]\n",
    "\n",
    "    return data"
   ]
  },
  {
   "cell_type": "code",
   "execution_count": 77,
   "metadata": {},
   "outputs": [],
   "source": [
    "# GET DATA\n",
    "url = 'https://camparator.com/compare/cam/'\n",
    "html = requests.get(url).content\n",
    "df_list = pd.read_html(html)\n",
    "df = df_list[-1]\n",
    "df.to_csv('../data/CAMS_DATA.csv')\n"
   ]
  },
  {
   "cell_type": "code",
   "execution_count": 88,
   "metadata": {},
   "outputs": [],
   "source": [
    "data=pd.read_csv('../data/CAMS_DATA.csv')\n",
    "data.drop(columns=['Name','Unnamed: 0', 'Unnamed: 0.1','Unnamed: 14'],inplace=True)\n",
    "data.drop(data.loc[data['Generation']!='Current'].index,inplace=True)\n",
    "data.drop(columns=['Generation'],inplace=True)\n",
    "data.reset_index(drop=True,inplace=True)\n",
    "data =data.rename(columns = {'Lower (mm)':'Lower','Upper (mm)':'Upper','Range (mm)':'Range','Strength (kN)':'Strength'})\n",
    "data.to_csv('../data/CAMS.csv')\n",
    "\n",
    "#drop cams that are not interesting for me\n",
    "data = data.drop(data.loc[data['Brand']=='Valley Giant',:].index)\n",
    "data = data.drop(data.loc[data['Brand']=='Fixe Hardware',:].index)\n",
    "data = data.drop(data.loc[data['Brand']=='Trango',:].index)\n",
    "\n",
    "data_CT = pd.read_csv('../data/cams_CT.csv')\n",
    "data_CT.drop(columns=['Unnamed: 0'],inplace=True)\n",
    "\n",
    "data = pd.concat([data,data_CT],ignore_index=True)\n",
    "data['Size']=data['Size'].astype(str)\n",
    "\n",
    "\n",
    "data_weight = data.groupby(['Brand','Entity']).apply(function)\n",
    "data_weight = (data_weight/data_weight.max())*1000 # normalize weight\n"
   ]
  },
  {
   "cell_type": "code",
   "execution_count": 90,
   "metadata": {
    "scrolled": false
   },
   "outputs": [
    {
     "data": {
      "text/plain": [
       "<matplotlib.axes._subplots.AxesSubplot at 0x7fdb22cd8e80>"
      ]
     },
     "execution_count": 90,
     "metadata": {},
     "output_type": "execute_result"
    },
    {
     "data": {
      "image/png": "[encoded data removed]",
      "text/plain": [
       "<Figure size 432x288 with 1 Axes>"
      ]
     },
     "metadata": {
      "needs_background": "light"
     },
     "output_type": "display_data"
    }
   ],
   "source": [
    "# check the typical range\n",
    "data[['Range']].boxplot()\n"
   ]
  },
  {
   "cell_type": "code",
   "execution_count": 91,
   "metadata": {
    "scrolled": true
   },
   "outputs": [
    {
     "data": {
      "text/plain": [
       "3.2"
      ]
     },
     "execution_count": 91,
     "metadata": {},
     "output_type": "execute_result"
    }
   ],
   "source": [
    "typical_range=deal_with_outlirers(data['Range'])\n",
    "typical_range_df = pd.DataFrame({'Range':typical_range})\n",
    "# typical_range_df.boxplot()\n",
    "typical_range_df['Range'].min()"
   ]
  },
  {
   "cell_type": "markdown",
   "metadata": {},
   "source": [
    "Crack size to crac technique"
   ]
  },
  {
   "cell_type": "code",
   "execution_count": 92,
   "metadata": {},
   "outputs": [],
   "source": [
    "crack_width_df = pd.DataFrame(data=np.array([[12.7, 34.3],\n",
    "                                             [34.3, 63.5],\n",
    "                                             [63.5, 95.3],\n",
    "                                             [95.3, 304.8]]),\n",
    "                              index = ['Fingers','Hands','Fists','OFF'],\n",
    "                              columns = ['min','max'])\n",
    "crack_width_df = crack_width_df.T"
   ]
  },
  {
   "cell_type": "code",
   "execution_count": 93,
   "metadata": {},
   "outputs": [],
   "source": [
    "output_file(\"../plots/CAMSWEIGHT_joined.html\")\n",
    "y = [(brand, model,size) for brand,model,size in zip(data.Brand.values,data.Entity.values,data.Size.values)]\n",
    "\n",
    "source = ColumnDataSource(data = dict(y=y,Lower=data.Lower,Upper=data.Upper,weight=data.Weight))\n",
    "\n",
    "\n",
    "p = figure(y_range=FactorRange(*y), plot_height=650,plot_width=1200,\n",
    "           title=\"CAMS COMPARASION\")\n",
    "\n",
    "\n",
    "# CRAC SIZE BOX \n",
    "fingers_box = BoxAnnotation(left=crack_width_df.Fingers['min'], right=crack_width_df.Fingers['max'], fill_color='blue', fill_alpha=0.1)\n",
    "hands_box = BoxAnnotation(left=crack_width_df.Hands['min'], right=crack_width_df.Hands['max'], fill_color='blue', fill_alpha=0.13)\n",
    "fists_box = BoxAnnotation(left=crack_width_df.Fists['min'], right=crack_width_df.Fists['max'], fill_color='blue', fill_alpha=0.16)\n",
    "off_box = BoxAnnotation(left=crack_width_df.OFF['min'], right=crack_width_df.OFF['max'], fill_color='blue', fill_alpha=0.19)\n",
    "p.add_layout(fingers_box)\n",
    "p.add_layout(hands_box)\n",
    "p.add_layout(fists_box)\n",
    "p.add_layout(off_box)\n",
    "toggle1 = Toggle(label=\"Finger size\", button_type=\"success\", active=True)\n",
    "toggle2 = Toggle(label=\"Hands size\", button_type=\"success\", active=True)\n",
    "toggle3 = Toggle(label=\"Fists size\", button_type=\"success\", active=True)\n",
    "toggle4 = Toggle(label=\"OFF size\", button_type=\"success\", active=True)\n",
    "toggle1.js_link('active', fingers_box, 'visible')\n",
    "toggle2.js_link('active', hands_box, 'visible')\n",
    "toggle3.js_link('active', fists_box, 'visible')\n",
    "toggle4.js_link('active', off_box, 'visible')\n",
    "\n",
    "\n",
    "p.hbar(y='y',left='Lower',right='Upper',height=0.5,source=source,color='green', alpha=0.8,muted_color='green', muted_alpha=0.1,legend_label = 'RANGE')\n",
    "p.hbar(y='y', right='weight', height=0.1, source=source,color='red', alpha=0.8,muted_color='red', muted_alpha=0.1,legend_label = 'WEIGHT')\n",
    "p.circle(y=data_weight.index,x=data_weight.values,color='red', alpha=0.8,muted_color='red', muted_alpha=0.1,legend_label='NORM SET WEIGHT')\n",
    "p.legend.click_policy=\"hide\"\n",
    "show(layout([p],\n",
    "            [toggle1,toggle2,toggle3,toggle4])\n",
    "    )"
   ]
  },
  {
   "cell_type": "markdown",
   "metadata": {},
   "source": [
    "TESTS"
   ]
  }
 ],
 "metadata": {
  "kernelspec": {
   "display_name": "Python 3",
   "language": "python",
   "name": "python3"
  },
  "language_info": {
   "codemirror_mode": {
    "name": "ipython",
    "version": 3
   },
   "file_extension": ".py",
   "mimetype": "text/x-python",
   "name": "python",
   "nbconvert_exporter": "python",
   "pygments_lexer": "ipython3",
   "version": "3.8.5"
  }
 },
 "nbformat": 4,
 "nbformat_minor": 4
}
