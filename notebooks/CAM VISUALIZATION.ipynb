{
 "cells": [
  {
   "cell_type": "code",
   "execution_count": 7,
   "metadata": {},
   "outputs": [],
   "source": [
    "import requests\n",
    "import pandas as pd\n",
    "import matplotlib.pyplot as plt\n",
    "import numpy as np\n",
    "%matplotlib notebook\n",
    "from matplotlib.pyplot import figure\n",
    "from bokeh.io import output_file, show\n",
    "from bokeh.plotting import figure, output_file, show\n",
    "from bokeh.models import ColumnDataSource, FactorRange,CustomJS, RadioGroup,Row\n",
    "\n",
    "url = 'https://camparator.com/compare/cam/'\n",
    "html = requests.get(url).content\n",
    "df_list = pd.read_html(html)\n",
    "df = df_list[-1]\n",
    "# print(df)\n",
    "df.to_csv('../data/CAMS_DATA.csv')\n"
   ]
  },
  {
   "cell_type": "code",
   "execution_count": 8,
   "metadata": {},
   "outputs": [],
   "source": [
    "data=pd.read_csv('../data/CAMS_DATA.csv')\n",
    "data.drop(columns=['Name','Unnamed: 0', 'Unnamed: 0.1','Unnamed: 14'],inplace=True)\n",
    "data.drop(data.loc[data['Generation']!='Current'].index,inplace=True)\n",
    "data.drop(columns=['Generation'],inplace=True)\n",
    "data.reset_index(drop=True,inplace=True)\n",
    "data =data.rename(columns = {'Lower (mm)':'Lower','Upper (mm)':'Upper','Range (mm)':'Range'})\n",
    "data.to_csv('../data/CAMS.csv')\n",
    "\n",
    "#drop cams that are not interesting for me\n",
    "data = data.drop(data.loc[data['Brand']=='Valley Giant',:].index)"
   ]
  },
  {
   "cell_type": "code",
   "execution_count": 10,
   "metadata": {},
   "outputs": [],
   "source": [
    "\n",
    "\n",
    "output_file(\"../plots/stacked_split.html\")\n",
    "\n",
    "x = [(brand, model,size) for brand,model,size in zip(data.Brand.values,data.Entity.values,data.Size.values)]\n",
    "\n",
    "source = ColumnDataSource(data=dict(x=x, counts=data.Weight))\n",
    "p = figure(x_range=FactorRange(*x), plot_height=650,plot_width=1200,\n",
    "           title=\"CAMS WEIGHT\")\n",
    "p.vbar(x='x', top='counts', width=0.9, source=source)\n",
    "\n",
    "p.y_range.start = 0\n",
    "p.x_range.range_padding = 0.1\n",
    "p.xaxis.major_label_orientation = 1\n",
    "p.xgrid.grid_line_color = None\n",
    "\n",
    "\n",
    "show(p)\n"
   ]
  },
  {
   "cell_type": "code",
   "execution_count": 137,
   "metadata": {},
   "outputs": [],
   "source": [
    "\n",
    "x = [(brand, model,size) for brand,model,size in zip(data.Brand.values,data.Entity.values,data.Size.values)]\n",
    "source = ColumnDataSource(data = dict(y=x,Lower=data.Lower,Upper=data.Upper))\n",
    "\n",
    "p = figure(y_range = FactorRange(*x),x_range = (0,350), plot_height=700,plot_width=1000, title=\"CAMS RANGE\")\n",
    "p.hbar(y='y',left='Lower',right='Upper',height=0.4,source=source)\n",
    "\n",
    "\n",
    "\n",
    "LABELS = [\"Option 1\", \"Option 2\", \"Option 3\"]\n",
    "\n",
    "radio_group = RadioGroup(labels=LABELS, active=0)\n",
    "radio_group.js_on_click(CustomJS(code=\"\"\"\n",
    "    console.log('radio_group: active=' + this.active, this.toString())\n",
    "\"\"\"))\n",
    "\n",
    "Row\n",
    "show(p)\n",
    "\n",
    "\n",
    "\n",
    "\n",
    "\n"
   ]
  },
  {
   "cell_type": "code",
   "execution_count": null,
   "metadata": {},
   "outputs": [],
   "source": []
  }
 ],
 "metadata": {
  "kernelspec": {
   "display_name": "Python 3",
   "language": "python",
   "name": "python3"
  },
  "language_info": {
   "codemirror_mode": {
    "name": "ipython",
    "version": 3
   },
   "file_extension": ".py",
   "mimetype": "text/x-python",
   "name": "python",
   "nbconvert_exporter": "python",
   "pygments_lexer": "ipython3",
   "version": "3.8.5"
  }
 },
 "nbformat": 4,
 "nbformat_minor": 4
}
